{
  "nbformat": 4,
  "nbformat_minor": 0,
  "metadata": {
    "colab": {
      "name": "Task #1_PredictionUsingSupervisedML.ipynb",
      "provenance": [],
      "collapsed_sections": []
    },
    "kernelspec": {
      "name": "python3",
      "display_name": "Python 3"
    },
    "language_info": {
      "name": "python"
    }
  },
  "cells": [
    {
      "cell_type": "markdown",
      "metadata": {
        "id": "_eECdt9tleno"
      },
      "source": [
        "# **The Sparks Foundation** \n",
        "## Data science and business analytics internship  \n",
        "## GRIPJUN2021\n",
        "## **Task #1** - Prediction using Supervised ML\n",
        "##### Predict the percentage of an student based on the no. of study hours.\n",
        "##### In this regression task, prediction of the percentage of marks that a student is expected to score based upon the number of hours is studied. This is a simple linear regression task as it involves just two variables.\n",
        "\n"
      ]
    },
    {
      "cell_type": "markdown",
      "metadata": {
        "id": "_c-sBNwSUNuB"
      },
      "source": [
        ""
      ]
    },
    {
      "cell_type": "markdown",
      "metadata": {
        "id": "mrVBZrrJVHxb"
      },
      "source": [
        ""
      ]
    },
    {
      "cell_type": "markdown",
      "metadata": {
        "id": "lfoVdVyKmjVi"
      },
      "source": [
        "***By DEVI UNNI***"
      ]
    },
    {
      "cell_type": "markdown",
      "metadata": {
        "id": "yIk58s61nw8b"
      },
      "source": [
        "##Importing all the Libraries needed for this task."
      ]
    },
    {
      "cell_type": "code",
      "metadata": {
        "id": "rdoO7JekktoG"
      },
      "source": [
        "import pandas as pd\n",
        "import numpy as np\n",
        "import matplotlib.pyplot as plt\n",
        "%matplotlib inline"
      ],
      "execution_count": 2,
      "outputs": []
    },
    {
      "cell_type": "markdown",
      "metadata": {
        "id": "RDg-kqKeoHmZ"
      },
      "source": [
        "## Importing the Dataset."
      ]
    },
    {
      "cell_type": "code",
      "metadata": {
        "id": "1dEvE6AHoBA3",
        "colab": {
          "base_uri": "https://localhost:8080/"
        },
        "outputId": "3bad6bc6-af50-440b-afd7-73e6e2154911"
      },
      "source": [
        "link = \"http://bit.ly/w-data\"\n",
        "dataset = pd.read_csv(link)\n",
        "print(\"Data imported successfully!!\")"
      ],
      "execution_count": 11,
      "outputs": [
        {
          "output_type": "stream",
          "text": [
            "Data imported successfully!!\n"
          ],
          "name": "stdout"
        }
      ]
    },
    {
      "cell_type": "markdown",
      "metadata": {
        "id": "Q2oxMJCLo3sy"
      },
      "source": [
        "## Preview of Dataset"
      ]
    },
    {
      "cell_type": "code",
      "metadata": {
        "colab": {
          "base_uri": "https://localhost:8080/",
          "height": 359
        },
        "id": "nAx9jGASo7w0",
        "outputId": "2469cfde-dfa2-40b3-a31f-dfc1f219c3b1"
      },
      "source": [
        "dataset.head(10)"
      ],
      "execution_count": 9,
      "outputs": [
        {
          "output_type": "execute_result",
          "data": {
            "text/html": [
              "<div>\n",
              "<style scoped>\n",
              "    .dataframe tbody tr th:only-of-type {\n",
              "        vertical-align: middle;\n",
              "    }\n",
              "\n",
              "    .dataframe tbody tr th {\n",
              "        vertical-align: top;\n",
              "    }\n",
              "\n",
              "    .dataframe thead th {\n",
              "        text-align: right;\n",
              "    }\n",
              "</style>\n",
              "<table border=\"1\" class=\"dataframe\">\n",
              "  <thead>\n",
              "    <tr style=\"text-align: right;\">\n",
              "      <th></th>\n",
              "      <th>Hours</th>\n",
              "      <th>Scores</th>\n",
              "    </tr>\n",
              "  </thead>\n",
              "  <tbody>\n",
              "    <tr>\n",
              "      <th>0</th>\n",
              "      <td>2.5</td>\n",
              "      <td>21</td>\n",
              "    </tr>\n",
              "    <tr>\n",
              "      <th>1</th>\n",
              "      <td>5.1</td>\n",
              "      <td>47</td>\n",
              "    </tr>\n",
              "    <tr>\n",
              "      <th>2</th>\n",
              "      <td>3.2</td>\n",
              "      <td>27</td>\n",
              "    </tr>\n",
              "    <tr>\n",
              "      <th>3</th>\n",
              "      <td>8.5</td>\n",
              "      <td>75</td>\n",
              "    </tr>\n",
              "    <tr>\n",
              "      <th>4</th>\n",
              "      <td>3.5</td>\n",
              "      <td>30</td>\n",
              "    </tr>\n",
              "    <tr>\n",
              "      <th>5</th>\n",
              "      <td>1.5</td>\n",
              "      <td>20</td>\n",
              "    </tr>\n",
              "    <tr>\n",
              "      <th>6</th>\n",
              "      <td>9.2</td>\n",
              "      <td>88</td>\n",
              "    </tr>\n",
              "    <tr>\n",
              "      <th>7</th>\n",
              "      <td>5.5</td>\n",
              "      <td>60</td>\n",
              "    </tr>\n",
              "    <tr>\n",
              "      <th>8</th>\n",
              "      <td>8.3</td>\n",
              "      <td>81</td>\n",
              "    </tr>\n",
              "    <tr>\n",
              "      <th>9</th>\n",
              "      <td>2.7</td>\n",
              "      <td>25</td>\n",
              "    </tr>\n",
              "  </tbody>\n",
              "</table>\n",
              "</div>"
            ],
            "text/plain": [
              "   Hours  Scores\n",
              "0    2.5      21\n",
              "1    5.1      47\n",
              "2    3.2      27\n",
              "3    8.5      75\n",
              "4    3.5      30\n",
              "5    1.5      20\n",
              "6    9.2      88\n",
              "7    5.5      60\n",
              "8    8.3      81\n",
              "9    2.7      25"
            ]
          },
          "metadata": {
            "tags": []
          },
          "execution_count": 9
        }
      ]
    },
    {
      "cell_type": "markdown",
      "metadata": {
        "id": "n0rFk_YJWTpy"
      },
      "source": [
        "Let's plot our data points on 2-D graph to eyeball our dataset and see if we can manually find any relationship between the data. We can create the plot with the following script:"
      ]
    },
    {
      "cell_type": "code",
      "metadata": {
        "colab": {
          "base_uri": "https://localhost:8080/",
          "height": 295
        },
        "id": "-RK1DhqDWlUG",
        "outputId": "8daade49-169c-4e03-dbf4-edcb1fc9d730"
      },
      "source": [
        "# Plotting the distribution of scores\n",
        "dataset.plot(x='Hours', y='Scores', style='o')  \n",
        "plt.title('Hours vs Percentage')  \n",
        "plt.xlabel('Hours Studied')  \n",
        "plt.ylabel('Percentage Score')  \n",
        "plt.show()"
      ],
      "execution_count": 13,
      "outputs": [
        {
          "output_type": "display_data",
          "data": {
            "image/png": "[encoded data removed]",
            "text/plain": [
              "<Figure size 432x288 with 1 Axes>"
            ]
          },
          "metadata": {
            "tags": [],
            "needs_background": "light"
          }
        }
      ]
    },
    {
      "cell_type": "markdown",
      "metadata": {
        "id": "AojRxKViYCnh"
      },
      "source": [
        ""
      ]
    },
    {
      "cell_type": "markdown",
      "metadata": {
        "id": "fiQaULio4Rzr"
      },
      "source": [
        "**From the graph above, we can clearly see that there is a positive linear relation between the number of hours studied and percentage of score.**"
      ]
    },
    {
      "cell_type": "markdown",
      "metadata": {
        "id": "PPWLOXnZp8pL"
      },
      "source": [
        "## Preparing and Splitting of the dataset into the Training set and Test set"
      ]
    },
    {
      "cell_type": "markdown",
      "metadata": {
        "id": "q5JV_k7FY0pu"
      },
      "source": [
        "Divide the data into \"attributes\" (inputs) and \"labels\" (outputs)."
      ]
    },
    {
      "cell_type": "code",
      "metadata": {
        "id": "LiJ5210e4tNX"
      },
      "source": [
        "X = dataset.iloc[:, :-1].values  \n",
        "y = dataset.iloc[:, 1].values  "
      ],
      "execution_count": 17,
      "outputs": []
    },
    {
      "cell_type": "markdown",
      "metadata": {
        "id": "vtteucMSY8VF"
      },
      "source": [
        "The next step is to split this data into training and test sets. By using Scikit-Learn's built-in train_test_split() method:"
      ]
    },
    {
      "cell_type": "code",
      "metadata": {
        "id": "3bYVbwbQpTnt"
      },
      "source": [
        "from sklearn.model_selection import train_test_split\n",
        "X_train, X_test, y_train, y_test = train_test_split(X, y, test_size = 0.2, random_state = 0)"
      ],
      "execution_count": 19,
      "outputs": []
    },
    {
      "cell_type": "markdown",
      "metadata": {
        "id": "uqt727MaqzQl"
      },
      "source": [
        "## Training the Simple Linear Regression model on the Training set.\n",
        "Split data into training and testing sets, and now is finally the time to train our algorithm."
      ]
    },
    {
      "cell_type": "markdown",
      "metadata": {
        "id": "rliVE_1dZUYw"
      },
      "source": [
        ""
      ]
    },
    {
      "cell_type": "code",
      "metadata": {
        "colab": {
          "base_uri": "https://localhost:8080/"
        },
        "id": "jwWK1N9jqRwZ",
        "outputId": "417b176a-dea8-41f2-9ac3-b9926bba5db9"
      },
      "source": [
        "from sklearn.linear_model import LinearRegression\n",
        "regressor = LinearRegression()\n",
        "model = regressor.fit(X_train, y_train)\n",
        "print(\"Training complete\")\n",
        "print(model)"
      ],
      "execution_count": 25,
      "outputs": [
        {
          "output_type": "stream",
          "text": [
            "Training complete\n",
            "LinearRegression(copy_X=True, fit_intercept=True, n_jobs=None, normalize=False)\n"
          ],
          "name": "stdout"
        }
      ]
    },
    {
      "cell_type": "code",
      "metadata": {
        "id": "J61NX2_2-px7",
        "colab": {
          "base_uri": "https://localhost:8080/",
          "height": 265
        },
        "outputId": "01352b8e-3afb-4c8a-a002-e6ff4888326b"
      },
      "source": [
        "# Plotting the regression line\n",
        "line = regressor.coef_*X+regressor.intercept_\n",
        "\n",
        "# Plotting for the test data\n",
        "plt.scatter(X, y)\n",
        "plt.plot(X, line);\n",
        "plt.show()"
      ],
      "execution_count": 24,
      "outputs": [
        {
          "output_type": "display_data",
          "data": {
            "image/png": "[encoded data removed]",
            "text/plain": [
              "<Figure size 432x288 with 1 Axes>"
            ]
          },
          "metadata": {
            "tags": [],
            "needs_background": "light"
          }
        }
      ]
    },
    {
      "cell_type": "markdown",
      "metadata": {
        "id": "v6QrpVkGrhFb"
      },
      "source": [
        "## Predicting the Test set results"
      ]
    },
    {
      "cell_type": "code",
      "metadata": {
        "colab": {
          "base_uri": "https://localhost:8080/"
        },
        "id": "CnnMEpuhrltZ",
        "outputId": "88fa4e32-c43b-4665-8a82-2c7f7b48c451"
      },
      "source": [
        "y_pred = regressor.predict(X_test)\n",
        "print(y_pred)"
      ],
      "execution_count": 26,
      "outputs": [
        {
          "output_type": "stream",
          "text": [
            "[16.88414476 33.73226078 75.357018   26.79480124 60.49103328]\n"
          ],
          "name": "stdout"
        }
      ]
    },
    {
      "cell_type": "markdown",
      "metadata": {
        "id": "nYjbCXEyr9rf"
      },
      "source": [
        "## Visualising the Training set results"
      ]
    },
    {
      "cell_type": "code",
      "metadata": {
        "colab": {
          "base_uri": "https://localhost:8080/",
          "height": 295
        },
        "id": "3gLQzEZgr-jb",
        "outputId": "9da8b56e-2073-4fe6-e37c-9155db1a23d6"
      },
      "source": [
        "plt.scatter(X_train, y_train, color = \"green\")\n",
        "plt.plot(X_train, regressor.predict(X_train), color = 'black')\n",
        "plt.title(\"No. of hours Against Scores Scored by Student.(Training Dataset)\")\n",
        "plt.xlabel(\"No. Of Hours Student Studied\")\n",
        "plt.ylabel(\"Marks Scored By Student\")\n",
        "plt.show()"
      ],
      "execution_count": 32,
      "outputs": [
        {
          "output_type": "display_data",
          "data": {
            "image/png": "[encoded data removed]",
            "text/plain": [
              "<Figure size 432x288 with 1 Axes>"
            ]
          },
          "metadata": {
            "tags": [],
            "needs_background": "light"
          }
        }
      ]
    },
    {
      "cell_type": "markdown",
      "metadata": {
        "id": "6LT3MbJ9tXmd"
      },
      "source": [
        "From the above graph Linear regression is best fitted for the training data set as all the green dots(training dataset) is closed to the black line (Regression Line). Hence, the model is assumed to be the best fit."
      ]
    },
    {
      "cell_type": "markdown",
      "metadata": {
        "id": "QsbMhFJiuFLZ"
      },
      "source": [
        "## Visualising the Test set results"
      ]
    },
    {
      "cell_type": "code",
      "metadata": {
        "colab": {
          "base_uri": "https://localhost:8080/",
          "height": 295
        },
        "id": "IByBxwZctvmj",
        "outputId": "7aeb3e6d-a8ad-472f-a5a9-55c39bc2122b"
      },
      "source": [
        "plt.scatter(X_test, y_test, color = \"green\")\n",
        "plt.plot(X_test, regressor.predict(X_test), color = 'black')\n",
        "plt.title(\"No. of hours Against Scores Scored by Student.(Test Dataset)\")\n",
        "plt.xlabel(\"No. Of Hours Student Studied\")\n",
        "plt.ylabel(\"Marks Scored By Student\")\n",
        "plt.show()"
      ],
      "execution_count": 31,
      "outputs": [
        {
          "output_type": "display_data",
          "data": {
            "image/png": "[encoded data removed]",
            "text/plain": [
              "<Figure size 432x288 with 1 Axes>"
            ]
          },
          "metadata": {
            "tags": [],
            "needs_background": "light"
          }
        }
      ]
    },
    {
      "cell_type": "markdown",
      "metadata": {
        "id": "jrGiptJ7ucZw"
      },
      "source": [
        "From the above graph Linear regression is also best fitted for the test data set as most of the green dots(test dataset) is closed to the black line (Regression Line). Hence, the model is assumed to be the best fit."
      ]
    },
    {
      "cell_type": "markdown",
      "metadata": {
        "id": "eFdjVy_KuubO"
      },
      "source": [
        "## Linear Regression Model with Parameter."
      ]
    },
    {
      "cell_type": "code",
      "metadata": {
        "colab": {
          "base_uri": "https://localhost:8080/"
        },
        "id": "SZrCQBYPu6sT",
        "outputId": "df4ed3ab-aaf6-4d11-c8fe-a7646a51e9f2"
      },
      "source": [
        "coefficient = model.coef_\n",
        "intercept = model.intercept_\n",
        "print(\"Intercept of the Linear Regression Equation is\", intercept)\n",
        "print(\"Slope of Linear Regression is\", coefficient)"
      ],
      "execution_count": 33,
      "outputs": [
        {
          "output_type": "stream",
          "text": [
            "Intercept of the Linear Regression Equation is 2.018160041434662\n",
            "Slope of Linear Regression is [9.91065648]\n"
          ],
          "name": "stdout"
        }
      ]
    },
    {
      "cell_type": "markdown",
      "metadata": {
        "id": "edvYP_o4xS0m"
      },
      "source": [
        "## Calculation Coefficient of Determination (R_Squared) Value for training Dataset"
      ]
    },
    {
      "cell_type": "code",
      "metadata": {
        "colab": {
          "base_uri": "https://localhost:8080/"
        },
        "id": "MBK3chbjxbXL",
        "outputId": "daaf5804-3513-4083-eb5e-13daf4397653"
      },
      "source": [
        "r_square = model.score(X_train, y_train)\n",
        "print(\"Coefficient of Determination is\", r_square)"
      ],
      "execution_count": 34,
      "outputs": [
        {
          "output_type": "stream",
          "text": [
            "Coefficient of Determination is 0.9515510725211553\n"
          ],
          "name": "stdout"
        }
      ]
    },
    {
      "cell_type": "code",
      "metadata": {
        "colab": {
          "base_uri": "https://localhost:8080/"
        },
        "id": "u8WZKY2ayHz4",
        "outputId": "8a54a2c5-c318-4162-a85a-1910a2444f30"
      },
      "source": [
        "if r_square > 0.9:\n",
        "  print(\"The fitted simple Linear regression model is good fit for the data.\")\n",
        "else:\n",
        "  print(\"The fitted simple Linear regression model is not a good fit for the data\")"
      ],
      "execution_count": 35,
      "outputs": [
        {
          "output_type": "stream",
          "text": [
            "The fitted simple Linear regression model is good fit for the data.\n"
          ],
          "name": "stdout"
        }
      ]
    },
    {
      "cell_type": "markdown",
      "metadata": {
        "id": "_j2iHnpdy6wK"
      },
      "source": [
        "R_Squared value is 0.9515 that is 95.15%, Hence, the obtained simple linear regression model is proved to be the best fit for the given dataset, which we already proved with the visualization."
      ]
    }
  ]
}